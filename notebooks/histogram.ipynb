{
 "cells": [
  {
   "cell_type": "code",
   "execution_count": 7,
   "id": "53335d0b",
   "metadata": {},
   "outputs": [
    {
     "name": "stdout",
     "output_type": "stream",
     "text": [
      "      Name       Index  Arithmancy   Astronomy   Herbology  Defense Ag  Divination  Muggle Stu  Ancient Ru  History of  Transfigur     Potions  Care of Ma      Charms      Flying  \n",
      "     Count     1600.00     1566.00     1568.00     1567.00     1569.00     1561.00     1565.00     1565.00     1557.00     1566.00     1570.00     1560.00     1600.00     1600.00  \n",
      "      Mean      799.50    49634.57       39.80        1.14       -0.39        3.15     -224.59      495.75        2.96     1030.10        5.95       -0.05     -243.37       21.96  \n",
      "       Min        0.00   -24370.00     -966.74      -10.30      -10.16       -8.73    -1086.50      283.87       -8.86      906.63       -4.70       -3.31     -261.05     -181.47  \n",
      "       25%     1199.75    60850.50      525.53        5.42        4.91        5.67      256.89      597.60        5.83     1058.46        8.25        0.59     -232.54       50.78  \n",
      "       50%      799.50    49013.50      260.29        3.47       -2.59        4.62     -419.16      463.92        4.38     1045.51        5.87       -0.04     -244.87       -2.51  \n",
      "       75%      399.25    38505.25     -489.67       -4.31       -5.26        3.09     -577.82      397.44        2.22     1026.17        3.64       -0.67     -250.66      -41.93  \n",
      "       Max     1599.00   104956.00     1016.21       11.61        9.67       10.03     1092.39      745.40       11.89     1098.96       13.54        3.06     -225.43      279.07  \n",
      "\n"
     ]
    }
   ],
   "source": [
    "from dslr import read, \\\n",
    "    str_data\n",
    "\n",
    "\n",
    "def main():\n",
    "    df = read(\"../data/dataset_train.csv\")\n",
    "    print(str_data(df, size=10))\n",
    "\n",
    "\n",
    "# if __name__ == \"__main__\":\n",
    "main()\n"
   ]
  }
 ],
 "metadata": {
  "kernelspec": {
   "display_name": "Python 3",
   "language": "python",
   "name": "python3"
  },
  "language_info": {
   "codemirror_mode": {
    "name": "ipython",
    "version": 3
   },
   "file_extension": ".py",
   "mimetype": "text/x-python",
   "name": "python",
   "nbconvert_exporter": "python",
   "pygments_lexer": "ipython3",
   "version": "3.12.11"
  }
 },
 "nbformat": 4,
 "nbformat_minor": 5
}
